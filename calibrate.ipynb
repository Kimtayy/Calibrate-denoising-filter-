{
 "cells": [
  {
   "cell_type": "markdown",
   "metadata": {},
   "source": [
    "#      Calibrate\n",
    "* It was used using the cv2 library.\n",
    "* NLmeans, Gaussian, Median and Bilateral were used to calibrate the input image.\n",
    "* In order to evaluate the determination of change in image correction, the parameter values of Nlmeans are used as several examples.\n"
   ]
  },
  {
   "cell_type": "code",
   "execution_count": 6,
   "metadata": {},
   "outputs": [],
   "source": [
    "import cv2\n",
    " \n",
    "img = cv2.imread(\"D:/noise2void-remaster-v.2/image/oo.png\", cv2.IMREAD_COLOR)\n",
    "\n",
    "denoised_img1 = cv2.fastNlMeansDenoising(img, None, 15, 15, 5) # NLmeans\n",
    "denoised_img2 = cv2.fastNlMeansDenoising(img, None, 15, 15, 6) \n",
    "denoised_img3 = cv2.fastNlMeansDenoising(img, None, 15, 15, 7)\n",
    "denoised_img4 = cv2.fastNlMeansDenoising(img, None, 15, 15, 10)\n",
    "denoised_img5 = cv2.fastNlMeansDenoising(img, None, 15, 15, 15)\n",
    "denoised_img2 = cv2.GaussianBlur(img, (5, 5), 0) # Gaussian\n",
    "denoised_img3 = cv2.medianBlur(img, 3) # Median\n",
    "denoised_img4 = cv2.bilateralFilter(img, 5, 50, 50) # Bilateral\n",
    " \n",
    "cv2.imshow(\"before\", img)\n",
    "cv2.imshow(\"after(NLmeans)\", denoised_img1)\n",
    "cv2.imshow(\"after(NLmeans2)\", denoised_img2)\n",
    "cv2.imshow(\"after(NLmeans3)\", denoised_img3)\n",
    "cv2.imshow(\"after(NLmeans4)\", denoised_img4)\n",
    "cv2.imshow(\"after(NLmeans5)\", denoised_img5)\n",
    "# v2.imshow(\"after(Gaussian)\", denoised_img2)\n",
    "cv2.imshow(\"after(Median)\", denoised_img3)\n",
    "# cv2.imshow(\"after(Bilateral)\", denoised_img4)\n",
    " \n",
    "cv2.waitKey(0)\n",
    "cv2.destroyAllWindows()\n"
   ]
  }
 ],
 "metadata": {
  "kernelspec": {
   "display_name": "Python 3.10.4 ('env')",
   "language": "python",
   "name": "python3"
  },
  "language_info": {
   "codemirror_mode": {
    "name": "ipython",
    "version": 3
   },
   "file_extension": ".py",
   "mimetype": "text/x-python",
   "name": "python",
   "nbconvert_exporter": "python",
   "pygments_lexer": "ipython3",
   "version": "3.10.4"
  },
  "orig_nbformat": 4,
  "vscode": {
   "interpreter": {
    "hash": "608630b4aca777a6b2ab79aca3f616572d1b5b27c60bc0e770253ca61f3ea8e2"
   }
  }
 },
 "nbformat": 4,
 "nbformat_minor": 2
}
